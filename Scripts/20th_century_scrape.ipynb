{
 "cells": [
  {
   "cell_type": "markdown",
   "id": "c04daff3-4255-4ce7-87e4-cd39134d77dc",
   "metadata": {},
   "source": [
    "## Step: 1: Import Libraries"
   ]
  },
  {
   "cell_type": "code",
   "execution_count": 17,
   "id": "9ee0eddb-460b-418d-a326-37b33a35debd",
   "metadata": {},
   "outputs": [],
   "source": [
    "# Import libraries\n",
    "\n",
    "import pandas as pd\n",
    "import time\n",
    "import requests\n",
    "from bs4 import BeautifulSoup\n",
    "from selenium import webdriver\n",
    "from webdriver_manager.chrome import ChromeDriverManager\n",
    "from selenium.webdriver.common.by import By\n",
    "from selenium.webdriver.chrome.service import Service  # Correct import\n",
    "from selenium.webdriver.chrome.options import Options\n",
    "import matplotlib.pyplot as plt \n",
    "import os\n",
    "import logging"
   ]
  },
  {
   "cell_type": "markdown",
   "id": "28a5a004-ba7c-44e2-b7b1-1b11b030135a",
   "metadata": {},
   "source": [
    "## Step 2: Configuration"
   ]
  },
  {
   "cell_type": "code",
   "execution_count": 19,
   "id": "481856bc-ecf2-4839-aa80-522c8c214847",
   "metadata": {},
   "outputs": [],
   "source": [
    "# Configure logging\n",
    "logging.basicConfig(\n",
    "    level=logging.INFO,\n",
    "    format='%(asctime)s - %(levelname)s - %(message)s')\n",
    "logger = logging.getLogger()"
   ]
  },
  {
   "cell_type": "markdown",
   "id": "c6ce9eab-471e-49cd-8447-2501f366be21",
   "metadata": {},
   "source": [
    "## Step 3: Scrape Wikipedia Content"
   ]
  },
  {
   "cell_type": "code",
   "execution_count": 21,
   "id": "bd14d97a-b255-4ddc-bd7f-9ebf0860825e",
   "metadata": {},
   "outputs": [],
   "source": [
    "def scrape_wikipedia_content():\n",
    "    headers = {\n",
    "        'User-Agent': 'Mozilla/5.0 (Windows NT 10.0; Win64; x64) AppleWebKit/537.36'\n",
    "    }\n",
    "    \n",
    "    url = \"https://en.wikipedia.org/wiki/Key_events_of_the_20th_century\"\n",
    "    response = requests.get(url, headers=headers, timeout=15)\n",
    "    response.raise_for_status()\n",
    "    \n",
    "    soup = BeautifulSoup(response.content, 'html.parser')\n",
    "    main_content = soup.find('div', {'class': 'mw-parser-output'})\n",
    "    \n",
    "    return main_content.get_text() if main_content else None\n",
    "\n",
    "content = scrape_wikipedia_content()"
   ]
  },
  {
   "cell_type": "markdown",
   "id": "52a90f2b-ccab-427e-b773-6b9f1f4fd8e8",
   "metadata": {},
   "source": [
    "## Step 4: Organize Content with Headings"
   ]
  },
  {
   "cell_type": "code",
   "execution_count": 23,
   "id": "29958bd8-ff4a-450e-8b07-859daccf210f",
   "metadata": {},
   "outputs": [],
   "source": [
    "def organize_content_with_headings(text_content):\n",
    "    lines = text_content.split('\\n')\n",
    "    organized_lines = []\n",
    "    \n",
    "    organized_lines.append(\"KEY EVENTS OF THE 20TH CENTURY\")\n",
    "    organized_lines.append(\"=\" * 50)\n",
    "    organized_lines.append(\"Historical Overview and Major Developments\")\n",
    "    organized_lines.append(\"\")\n",
    "    \n",
    "    current_section = \"INTRODUCTION\"\n",
    "    \n",
    "    for line in lines:\n",
    "        line = line.strip()\n",
    "        if not line:\n",
    "            continue\n",
    "            \n",
    "        # Detect section headers (lines in uppercase or with specific patterns)\n",
    "        if (line.isupper() and len(line) > 10 and len(line) < 100) or \\\n",
    "           ('20th century' in line.lower() and len(line) < 80):\n",
    "            organized_lines.append(\"\")\n",
    "            organized_lines.append(line.upper())\n",
    "            organized_lines.append(\"-\" * len(line))\n",
    "            current_section = line.upper()\n",
    "        elif len(line) > 30:  # Substantial content\n",
    "            organized_lines.append(line)\n",
    "            organized_lines.append(\"\")\n",
    "    \n",
    "    return '\\n'.join(organized_lines)\n",
    "\n",
    "if content:\n",
    "    organized_content = organize_content_with_headings(content)\n",
    "else:\n",
    "    organized_content = \"Content not available\""
   ]
  },
  {
   "cell_type": "code",
   "execution_count": 24,
   "id": "2dfb816c-e129-4742-b3af-a6f9e02880a6",
   "metadata": {},
   "outputs": [],
   "source": [
    "# Cell 4: Save Organized Content"
   ]
  },
  {
   "cell_type": "code",
   "execution_count": 25,
   "id": "7627881f-f656-45bc-8353-5157a680c125",
   "metadata": {},
   "outputs": [
    {
     "name": "stdout",
     "output_type": "stream",
     "text": [
      "Organized content saved to: organized_20th_century_events.txt\n",
      "Content size: 108471 characters\n"
     ]
    }
   ],
   "source": [
    "output_filename = \"organized_20th_century_events.txt\"\n",
    "\n",
    "with open(output_filename, 'w', encoding='utf-8') as f:\n",
    "    f.write(organized_content)\n",
    "\n",
    "print(f\"Organized content saved to: {output_filename}\")\n",
    "print(f\"Content size: {len(organized_content)} characters\")"
   ]
  },
  {
   "cell_type": "code",
   "execution_count": 26,
   "id": "283acdbd-c754-41e2-8bbd-032f4ccc57c0",
   "metadata": {},
   "outputs": [],
   "source": [
    "# Cell 5: Display Preview"
   ]
  },
  {
   "cell_type": "code",
   "execution_count": 27,
   "id": "f36b3100-6035-44c6-a1ef-4f333acb6bef",
   "metadata": {},
   "outputs": [
    {
     "name": "stdout",
     "output_type": "stream",
     "text": [
      "CONTENT PREVIEW\n",
      "==================================================\n",
      "KEY EVENTS OF THE 20TH CENTURY\n",
      "==================================================\n",
      "Historical Overview and Major Developments\n",
      "\n",
      "The 20th century changed the world in unprecedented ways. The World Wars sparked tension between countries and led to the creation of atomic bombs, the Cold War led to the Space Race and the creation of space-based rockets, and the World Wide Web was created. These advancements have played a significant role in citizens' lives and shaped the 21st century into what it is today.\n",
      "\n",
      "\n",
      "HISTORIC EVENTS IN THE 20TH CENTURY[EDIT]\n",
      "-----------------------------------------\n",
      "World at the beginning of the century[edit]\n",
      "\n",
      "The new beginning of the 20th century marked significant changes. The 1900s saw the decade herald a series of inventions, including the automobile, airplane and radio broadcasting. 1914 saw the completion of the Panama Canal.\n",
      "\n",
      "The Scramble for Africa continued in the 1900s and resulted in wars and genocide across the continent. The atrocities in the Congo Free State shocked the civilized world.\n",
      "\n",
      "From 1914 to 1918, the First World War, and its aftermath, caused major changes in the power balance of the world, destroying or transforming some of the most powerful empires.\n",
      "\n",
      "\"The war to end all wars\": World War I (1914–1918)[edit]\n",
      "\n",
      "Arrest of a suspect in Sarajevo following the Assassination of Archduke Franz Ferdinand\n",
      "\n",
      "The First World War (or simply WWI), termed \"The Great War\" by contemporaries, started in July 1914 and ended in November 1918. The war was precipitated by the Assassination in Sarajevo of the Austro-Hungarian Empire's heir to the throne, Erzherzog Franz Ferdinand, by Gavrilo Princip, a member of the Young Bosnia liberation movement. After a period of diplomatic and military escalation known as the July Crisis, by the end of July 1914 two coalitions were at war: the Allies, comprised initially of the British Empire, France, and the Russian Empire; and the Central Powers, comprised initially of the German Empire and Austria-Hungary.[1][2]\n",
      "\n",
      "In 1917, Russia ended hostile actions against the Central Powers after the fall of the Tsar. The Bolsheviks negotiated the Treaty of Brest-Litovsk with Germany, although it was a huge cost to Russia. In the treaty, Bolshevik Russia ceded the Baltic states to Germany, and its province of Kars Oblast in the South Caucasus to the Ottoman Empire. It also recognized the independence of Ukraine.[3] Although Germany shifted huge forces from the eastern to the western front after signing the treaty, it was unable to stop the Allied advance, especially with the entrance of American troops in 1918.[4]\n",
      "\n",
      "The war itself was also a chance for the combatant nations to show off their military strength and technological ingenuity. The Germans introduced the machine gun,[5] U-boats[6] and deadly gases.[7] The British first used the tank.[8] Both sides had a chance to test out their new aircraft to see if they could be used in warfare. It was widely believed that the war would be short. Unfortunately, since trench warfare was the best form of defense, advances on both sides were very slow and came at a terrible cost to lives.[9]\n",
      "\n",
      "Division of Austria-Hungary after World War I\n",
      "\n",
      "When the war was finally over in 1918, the results would set the stage for the next twenty years. First and foremost, the Germans were forced to sign the Treaty of Versailles, forcing them to make exorbitant payments to repair damages caused during the War. Many Germans felt these reparations were unfair because they did not actually \"lose\" the war nor did they feel they caused the war (see Stab-in-the-back legend).[10] Germany was never occupied by Allied troops, yet it had to accept a liberal democratic government imposed on it by the victors after the abdication of Kaiser Wilhelm.[11]\n"
     ]
    }
   ],
   "source": [
    "print(\"CONTENT PREVIEW\")\n",
    "print(\"=\" * 50)\n",
    "lines = organized_content.split('\\n')\n",
    "for i, line in enumerate(lines[:30]):\n",
    "    print(line)"
   ]
  },
  {
   "cell_type": "code",
   "execution_count": null,
   "id": "9297df29-e481-4983-a629-661e406660fc",
   "metadata": {},
   "outputs": [],
   "source": [
    "# Cell 6: Create Summary File"
   ]
  },
  {
   "cell_type": "code",
   "execution_count": 28,
   "id": "d39d6998-e556-4a2d-9eba-e8fcd23a2ef0",
   "metadata": {},
   "outputs": [
    {
     "name": "stdout",
     "output_type": "stream",
     "text": [
      "Summary file created: 20th_century_analysis_summary.txt\n"
     ]
    }
   ],
   "source": [
    "summary_content = \"\"\"\n",
    "20TH CENTURY HISTORICAL ANALYSIS\n",
    "================================\n",
    "\n",
    "MAJOR THEMATIC CATEGORIES:\n",
    "\n",
    "Global Conflicts and Wars\n",
    "- World War I and II\n",
    "- Cold War era\n",
    "- Regional conflicts\n",
    "- Decolonization movements\n",
    "\n",
    "Technological Advancements  \n",
    "- Aviation and space exploration\n",
    "- Digital revolution\n",
    "- Medical breakthroughs\n",
    "- Communication technologies\n",
    "\n",
    "Political Transformations\n",
    "- Rise and fall of empires\n",
    "- Democratic expansions\n",
    "- International organizations\n",
    "- Geopolitical shifts\n",
    "\n",
    "Social and Cultural Changes\n",
    "- Civil rights movements\n",
    "- Women's suffrage\n",
    "- Educational expansion\n",
    "- Cultural globalization\n",
    "\n",
    "DATA CHARACTERISTICS:\n",
    "- Period Coverage: 1900-1999\n",
    "- Content Type: Historical events and developments\n",
    "- Source: Wikipedia curated content\n",
    "- Format: Organized text with thematic headings\n",
    "\n",
    "This dataset provides comprehensive coverage of major 20th century \n",
    "historical events suitable for research and analysis.\n",
    "\"\"\"\n",
    "\n",
    "with open(\"20th_century_analysis_summary.txt\", \"w\", encoding=\"utf-8\") as f:\n",
    "    f.write(summary_content)\n",
    "\n",
    "print(\"Summary file created: 20th_century_analysis_summary.txt\")"
   ]
  },
  {
   "cell_type": "code",
   "execution_count": 29,
   "id": "f968c678-900a-4df0-ba02-cd579404755d",
   "metadata": {},
   "outputs": [],
   "source": [
    "# Cell 7: Final Verification"
   ]
  },
  {
   "cell_type": "code",
   "execution_count": 31,
   "id": "b7b382a2-4862-44cc-a720-8190ac1c58e5",
   "metadata": {},
   "outputs": [
    {
     "name": "stdout",
     "output_type": "stream",
     "text": [
      "PROJECT COMPLETION VERIFICATION\n",
      "========================================\n",
      "✓ organized_20th_century_events.txt (108822 bytes)\n",
      "✓ 20th_century_analysis_summary.txt (905 bytes)\n",
      "\n",
      "Status: COMPLETED\n"
     ]
    }
   ],
   "source": [
    "files_created = [\n",
    "    \"organized_20th_century_events.txt\",\n",
    "    \"20th_century_analysis_summary.txt\"\n",
    "]\n",
    "\n",
    "print(\"PROJECT COMPLETION VERIFICATION\")\n",
    "print(\"=\" * 40)\n",
    "\n",
    "for file in files_created:\n",
    "    if os.path.exists(file):\n",
    "        size = os.path.getsize(file)\n",
    "        print(f\"✓ {file} ({size} bytes)\")\n",
    "    else:\n",
    "        print(f\"✗ {file} - MISSING\")\n",
    "\n",
    "print(f\"\\nStatus: COMPLETED\")"
   ]
  },
  {
   "cell_type": "code",
   "execution_count": null,
   "id": "2e4795ec-94b0-4b56-9add-70173e456473",
   "metadata": {},
   "outputs": [],
   "source": []
  }
 ],
 "metadata": {
  "kernelspec": {
   "display_name": "Python [conda env:base] *",
   "language": "python",
   "name": "conda-base-py"
  },
  "language_info": {
   "codemirror_mode": {
    "name": "ipython",
    "version": 3
   },
   "file_extension": ".py",
   "mimetype": "text/x-python",
   "name": "python",
   "nbconvert_exporter": "python",
   "pygments_lexer": "ipython3",
   "version": "3.13.5"
  }
 },
 "nbformat": 4,
 "nbformat_minor": 5
}
